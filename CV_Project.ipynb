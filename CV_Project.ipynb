{
  "cells": [
    {
      "cell_type": "code",
      "execution_count": 2,
      "metadata": {
        "colab": {
          "base_uri": "https://localhost:8080/"
        },
        "id": "kBNRIz_xoXGk",
        "outputId": "bf0d73a5-e767-4d00-ca2e-fdc24e966d12"
      },
      "outputs": [
        {
          "output_type": "stream",
          "name": "stdout",
          "text": [
            "Requirement already satisfied: kaggle in /usr/local/lib/python3.10/dist-packages (1.5.16)\n",
            "Requirement already satisfied: six>=1.10 in /usr/local/lib/python3.10/dist-packages (from kaggle) (1.16.0)\n",
            "Requirement already satisfied: certifi in /usr/local/lib/python3.10/dist-packages (from kaggle) (2023.11.17)\n",
            "Requirement already satisfied: python-dateutil in /usr/local/lib/python3.10/dist-packages (from kaggle) (2.8.2)\n",
            "Requirement already satisfied: requests in /usr/local/lib/python3.10/dist-packages (from kaggle) (2.31.0)\n",
            "Requirement already satisfied: tqdm in /usr/local/lib/python3.10/dist-packages (from kaggle) (4.66.1)\n",
            "Requirement already satisfied: python-slugify in /usr/local/lib/python3.10/dist-packages (from kaggle) (8.0.1)\n",
            "Requirement already satisfied: urllib3 in /usr/local/lib/python3.10/dist-packages (from kaggle) (2.0.7)\n",
            "Requirement already satisfied: bleach in /usr/local/lib/python3.10/dist-packages (from kaggle) (6.1.0)\n",
            "Requirement already satisfied: webencodings in /usr/local/lib/python3.10/dist-packages (from bleach->kaggle) (0.5.1)\n",
            "Requirement already satisfied: text-unidecode>=1.3 in /usr/local/lib/python3.10/dist-packages (from python-slugify->kaggle) (1.3)\n",
            "Requirement already satisfied: charset-normalizer<4,>=2 in /usr/local/lib/python3.10/dist-packages (from requests->kaggle) (3.3.2)\n",
            "Requirement already satisfied: idna<4,>=2.5 in /usr/local/lib/python3.10/dist-packages (from requests->kaggle) (3.6)\n",
            "kaggle.json\n",
            "/content/data\n",
            "Warning: Your Kaggle API key is readable by other users on this system! To fix this, you can run 'chmod 600 /root/.kaggle/kaggle.json'\n",
            "Downloading challenges-in-representation-learning-facial-expression-recognition-challenge.zip to /content/data\n",
            " 99% 282M/285M [00:01<00:00, 205MB/s]\n",
            "100% 285M/285M [00:01<00:00, 199MB/s]\n",
            "Archive:  challenges-in-representation-learning-facial-expression-recognition-challenge.zip\n",
            "  inflating: example_submission.csv  \n",
            "  inflating: fer2013.tar.gz          \n",
            "  inflating: icml_face_data.csv      \n",
            "  inflating: test.csv                \n",
            "  inflating: train.csv               \n"
          ]
        }
      ],
      "source": [
        "import os\n",
        "!pip install kaggle\n",
        "\n",
        "# Configure kaggle\n",
        "os.chdir('/root/')\n",
        "!mkdir .kaggle\n",
        "os.chdir('/root/.kaggle')\n",
        "!wget --no-check-certificate 'https://docs.google.com/uc?export=download&id=1Y-o0TVcjehM8SZB3Nt8U3xkyeQu-Nse-' -O kaggle.json > /dev/null 2>&1\n",
        "!ls /root/.kaggle\n",
        "\n",
        "# Create data folder\n",
        "os.chdir('/content/')\n",
        "!rm -rf data    #remove any data directory already present\n",
        "!mkdir data\n",
        "os.chdir('data')\n",
        "!pwd            # print working directory\n",
        "\n",
        "# Download data\n",
        "!kaggle competitions download -c challenges-in-representation-learning-facial-expression-recognition-challenge\n",
        "\n",
        "# Unzip data\n",
        "!unzip challenges-in-representation-learning-facial-expression-recognition-challenge.zip"
      ]
    },
    {
      "cell_type": "markdown",
      "metadata": {
        "id": "lp_6mMBr0nKq"
      },
      "source": [
        "LOADING AND VISUALIZING THE DATA\n",
        "The image dataset downloaded from Kaggle is in \".csv\" file format. Therefore, we need to load the \"train.csv\" file, and convert it to numpy array. The training images and labels are saved in \"x_train\" and \"y_train\" respectively."
      ]
    },
    {
      "cell_type": "code",
      "execution_count": 3,
      "metadata": {
        "colab": {
          "base_uri": "https://localhost:8080/"
        },
        "id": "wyIZrN__1R97",
        "outputId": "1baa9b82-55ff-4bf5-8e3b-e66afb889067"
      },
      "outputs": [
        {
          "output_type": "stream",
          "name": "stdout",
          "text": [
            "x_train shape: (28709, 48, 48)\n",
            "y_train shape: (28709,)\n"
          ]
        }
      ],
      "source": [
        "import csv\n",
        "import numpy\n",
        "\n",
        "train_images = []\n",
        "train_labels = []\n",
        "\n",
        "categories_count = {}\n",
        "\n",
        "with open('/content/data/train.csv') as train:\n",
        "\n",
        "    # Read train.csv file\n",
        "    csv_reader = csv.reader(train)\n",
        "    next(csv_reader)  # Skip the header\n",
        "\n",
        "    for row in csv_reader:\n",
        "\n",
        "        # Append image\n",
        "        pixels_str = row[1]\n",
        "        pixels_list = [int(i) for i in pixels_str.split(' ')]\n",
        "        pixels_list = numpy.array(pixels_list, dtype='uint8')\n",
        "        image = pixels_list.reshape((48, 48))\n",
        "        train_images.append(image)\n",
        "\n",
        "        label_str = row[0]\n",
        "\n",
        "        # Calculate categories count\n",
        "        count = 0\n",
        "        if label_str in categories_count:\n",
        "            count = categories_count[label_str] + 1\n",
        "        categories_count[label_str] = count\n",
        "\n",
        "        # Append label\n",
        "        label = int(label_str)\n",
        "        train_labels.append(label)\n",
        "\n",
        "# Create numpy array of train images and labels\n",
        "x_train = numpy.array(train_images)\n",
        "y_train = numpy.array(train_labels)\n",
        "\n",
        "print('x_train shape: {0}'.format(x_train.shape))\n",
        "print('y_train shape: {0}'.format(y_train.shape))"
      ]
    },
    {
      "cell_type": "code",
      "execution_count": 4,
      "metadata": {
        "colab": {
          "base_uri": "https://localhost:8080/",
          "height": 452
        },
        "id": "M55WIhm31Uog",
        "outputId": "eef82016-4670-46c3-e289-89fe30a0a6f3"
      },
      "outputs": [
        {
          "output_type": "display_data",
          "data": {
            "text/plain": [
              "<Figure size 640x480 with 1 Axes>"
            ],
            "image/png": "[encoded data removed]"
          },
          "metadata": {}
        }
      ],
      "source": [
        "#visualize data\n",
        "\n",
        "import matplotlib.pyplot as plt\n",
        "%matplotlib inline\n",
        "\n",
        "categories = ('Angry', 'Disgust', 'Fear', 'Happy', 'Sad', 'Surprise', 'Neutral')\n",
        "y_pos = numpy.arange(len(categories))\n",
        "\n",
        "counts = []\n",
        "for label in range(len(categories)):\n",
        "    label_str = str(label)\n",
        "    count = categories_count[label_str]\n",
        "    counts.append(count)\n",
        "    plt.text(label - 0.25, count + 15, str(count))\n",
        "\n",
        "# Draw histogram\n",
        "plt.bar(y_pos, counts, align='center', alpha=0.5)\n",
        "plt.xticks(y_pos, categories)\n",
        "plt.ylabel('Count')\n",
        "plt.title('FER2013 Dataset Categories')\n",
        "\n",
        "plt.show()"
      ]
    },
    {
      "cell_type": "code",
      "execution_count": 5,
      "metadata": {
        "colab": {
          "base_uri": "https://localhost:8080/",
          "height": 466
        },
        "id": "7jNbKoGT1W83",
        "outputId": "1fdf88ca-95f1-40a1-bc80-8258f800254a"
      },
      "outputs": [
        {
          "output_type": "stream",
          "name": "stdout",
          "text": [
            "Label is: 0\n"
          ]
        },
        {
          "output_type": "execute_result",
          "data": {
            "text/plain": [
              "<matplotlib.image.AxesImage at 0x7b3768e59ea0>"
            ]
          },
          "metadata": {},
          "execution_count": 5
        },
        {
          "output_type": "display_data",
          "data": {
            "text/plain": [
              "<Figure size 640x480 with 1 Axes>"
            ],
            "image/png": "[encoded data removed]"
          },
          "metadata": {}
        }
      ],
      "source": [
        "image = x_train[0]\n",
        "label = y_train[0]\n",
        "\n",
        "print('Label is: ' + str(label))\n",
        "plt.imshow(image, cmap='gray')"
      ]
    },
    {
      "cell_type": "markdown",
      "metadata": {
        "id": "6f80srLa0nKv"
      },
      "source": [
        "Preprocessing Data\n"
      ]
    },
    {
      "cell_type": "code",
      "execution_count": 6,
      "metadata": {
        "colab": {
          "base_uri": "https://localhost:8080/"
        },
        "id": "jnNbQrPw0nKw",
        "outputId": "ac5ab1b6-adbe-495c-a96d-a5e7539da033"
      },
      "outputs": [
        {
          "output_type": "stream",
          "name": "stdout",
          "text": [
            "(22967, 48, 48, 1)\n",
            "(5742, 48, 48, 1)\n"
          ]
        }
      ],
      "source": [
        "#create test and training sets\n",
        "#80% training and 20% test\n",
        "from sklearn.model_selection import train_test_split\n",
        "\n",
        "# Split dataset into train set and test set\n",
        "x_train, x_test, y_train, y_test = train_test_split(x_train, y_train, test_size=0.2)\n",
        "\n",
        "#normalize\n",
        "x_train, x_test = x_train/ 255.0, x_test /255.0\n",
        "\n",
        "\n",
        "x_train = x_train.reshape(len(x_train), 48, 48, 1)\n",
        "x_test = x_test.reshape(len(x_test), 48, 48, 1)\n",
        "\n",
        "print(x_train.shape)\n",
        "print(x_test.shape)"
      ]
    },
    {
      "cell_type": "markdown",
      "metadata": {
        "id": "CUMSzIwA0nKx"
      },
      "source": [
        "MODEL CREATION AND TRAINING\n",
        "\n",
        "Model to be used: VGG NET\n",
        " - 2 Conv layers and a max pool layer [4 times]\n",
        " - 3 FUlly Connected dense layers\n",
        " - Softmax Classification Layer\n"
      ]
    },
    {
      "cell_type": "code",
      "execution_count": 7,
      "metadata": {
        "colab": {
          "base_uri": "https://localhost:8080/"
        },
        "id": "67OHjOx10nKy",
        "outputId": "ed646c7b-fe1b-49d7-f52b-fc040c150da3"
      },
      "outputs": [
        {
          "output_type": "stream",
          "name": "stdout",
          "text": [
            "Tensorflow version: 2.15.0\n"
          ]
        }
      ],
      "source": [
        "#imported all necessary layers, activation functions etc\n",
        "import tensorflow as tf\n",
        "\n",
        "print('Tensorflow version: {}'.format(tf.__version__))\n",
        "\n",
        "from tensorflow.keras.models import Sequential\n",
        "from tensorflow.keras.layers import Conv2D, BatchNormalization, MaxPool2D, Dropout, Flatten, Dense\n",
        "from tensorflow.keras.optimizers import Adam\n",
        "from tensorflow.keras.callbacks import EarlyStopping, ReduceLROnPlateau\n",
        "\n",
        "from tensorflow.keras import Model, Input\n",
        "\n",
        "from tensorflow.keras.preprocessing.image import ImageDataGenerator\n",
        "\n",
        "#This is done by Haroon"
      ]
    },
    {
      "cell_type": "code",
      "execution_count": 8,
      "metadata": {
        "colab": {
          "base_uri": "https://localhost:8080/"
        },
        "id": "CF68Ik9q0nKy",
        "outputId": "514de6c8-4aaf-48cd-879d-0194561774af"
      },
      "outputs": [
        {
          "output_type": "stream",
          "name": "stdout",
          "text": [
            "Model: \"sequential\"\n",
            "_________________________________________________________________\n",
            " Layer (type)                Output Shape              Param #   \n",
            "=================================================================\n",
            " conv2d (Conv2D)             (None, 46, 46, 64)        640       \n",
            "                                                                 \n",
            " batch_normalization (Batch  (None, 46, 46, 64)        256       \n",
            " Normalization)                                                  \n",
            "                                                                 \n",
            " conv2d_1 (Conv2D)           (None, 46, 46, 64)        36928     \n",
            "                                                                 \n",
            " batch_normalization_1 (Bat  (None, 46, 46, 64)        256       \n",
            " chNormalization)                                                \n",
            "                                                                 \n",
            " max_pooling2d (MaxPooling2  (None, 22, 22, 64)        0         \n",
            " D)                                                              \n",
            "                                                                 \n",
            " conv2d_2 (Conv2D)           (None, 22, 22, 128)       73856     \n",
            "                                                                 \n",
            " batch_normalization_2 (Bat  (None, 22, 22, 128)       512       \n",
            " chNormalization)                                                \n",
            "                                                                 \n",
            " conv2d_3 (Conv2D)           (None, 22, 22, 128)       147584    \n",
            "                                                                 \n",
            " batch_normalization_3 (Bat  (None, 22, 22, 128)       512       \n",
            " chNormalization)                                                \n",
            "                                                                 \n",
            " max_pooling2d_1 (MaxPoolin  (None, 10, 10, 128)       0         \n",
            " g2D)                                                            \n",
            "                                                                 \n",
            " conv2d_4 (Conv2D)           (None, 10, 10, 256)       295168    \n",
            "                                                                 \n",
            " batch_normalization_4 (Bat  (None, 10, 10, 256)       1024      \n",
            " chNormalization)                                                \n",
            "                                                                 \n",
            " conv2d_5 (Conv2D)           (None, 10, 10, 256)       590080    \n",
            "                                                                 \n",
            " batch_normalization_5 (Bat  (None, 10, 10, 256)       1024      \n",
            " chNormalization)                                                \n",
            "                                                                 \n",
            " max_pooling2d_2 (MaxPoolin  (None, 4, 4, 256)         0         \n",
            " g2D)                                                            \n",
            "                                                                 \n",
            " conv2d_6 (Conv2D)           (None, 4, 4, 512)         1180160   \n",
            "                                                                 \n",
            " batch_normalization_6 (Bat  (None, 4, 4, 512)         2048      \n",
            " chNormalization)                                                \n",
            "                                                                 \n",
            " conv2d_7 (Conv2D)           (None, 4, 4, 512)         2359808   \n",
            "                                                                 \n",
            " batch_normalization_7 (Bat  (None, 4, 4, 512)         2048      \n",
            " chNormalization)                                                \n",
            "                                                                 \n",
            " max_pooling2d_3 (MaxPoolin  (None, 1, 1, 512)         0         \n",
            " g2D)                                                            \n",
            "                                                                 \n",
            " flatten (Flatten)           (None, 512)               0         \n",
            "                                                                 \n",
            " dense (Dense)               (None, 512)               262656    \n",
            "                                                                 \n",
            " dense_1 (Dense)             (None, 256)               131328    \n",
            "                                                                 \n",
            " dense_2 (Dense)             (None, 64)                16448     \n",
            "                                                                 \n",
            " dense_3 (Dense)             (None, 7)                 455       \n",
            "                                                                 \n",
            "=================================================================\n",
            "Total params: 5102791 (19.47 MB)\n",
            "Trainable params: 5098951 (19.45 MB)\n",
            "Non-trainable params: 3840 (15.00 KB)\n",
            "_________________________________________________________________\n"
          ]
        }
      ],
      "source": [
        "cnn_model = Sequential()\n",
        "\n",
        "# 1st convolution layer\n",
        "cnn_model.add(Conv2D(64, input_shape=(48, 48, 1), kernel_size=(3, 3), activation='relu'))\n",
        "cnn_model.add(BatchNormalization())\n",
        "cnn_model.add(Conv2D(64, padding='same', kernel_size=(3, 3), activation='relu'))\n",
        "cnn_model.add(BatchNormalization())\n",
        "cnn_model.add(MaxPool2D(pool_size=(3, 3), strides=(2, 2)))\n",
        "\n",
        "\n",
        "# 2nd convolution layer\n",
        "cnn_model.add(Conv2D(128, padding='same', kernel_size=(3, 3), activation='relu'))\n",
        "cnn_model.add(BatchNormalization())\n",
        "cnn_model.add(Conv2D(128, padding='same', kernel_size=(3, 3), activation='relu'))\n",
        "cnn_model.add(BatchNormalization())\n",
        "cnn_model.add(MaxPool2D(pool_size=(3, 3), strides=(2, 2)))\n",
        "\n",
        "\n",
        "# 3rd convolution layer\n",
        "cnn_model.add(Conv2D(256, padding='same', kernel_size=(3, 3), activation='relu'))\n",
        "cnn_model.add(BatchNormalization())\n",
        "cnn_model.add(Conv2D(256, padding='same', kernel_size=(3, 3), activation='relu'))\n",
        "cnn_model.add(BatchNormalization())\n",
        "cnn_model.add(MaxPool2D(pool_size=(3, 3), strides=(2, 2)))\n",
        "\n",
        "# 4th convolution layer\n",
        "cnn_model.add(Conv2D(512, padding='same', kernel_size=(3, 3), activation='relu'))\n",
        "cnn_model.add(BatchNormalization())\n",
        "cnn_model.add(Conv2D(512, padding='same', kernel_size=(3, 3), activation='relu'))\n",
        "cnn_model.add(BatchNormalization())\n",
        "cnn_model.add(MaxPool2D(pool_size=(3, 3), strides=(2, 2)))\n",
        "\n",
        "# Fully connected layer\n",
        "cnn_model.add(Flatten())\n",
        "cnn_model.add(Dense(512, activation='relu'))\n",
        "\n",
        "cnn_model.add(Dense(256, activation='relu'))\n",
        "\n",
        "cnn_model.add(Dense(64, activation='relu'))\n",
        "\n",
        "cnn_model.add(Dense(7, activation='softmax'))\n",
        "\n",
        "# Compile the model\n",
        "adam = Adam(learning_rate=0.001)\n",
        "cnn_model.compile(optimizer=adam,\n",
        "                  loss='sparse_categorical_crossentropy',\n",
        "                  metrics=['accuracy'])\n",
        "\n",
        "# Summary the model\n",
        "cnn_model.summary()\n",
        "#create the model following this setup @haroon"
      ]
    },
    {
      "cell_type": "code",
      "source": [
        "# Callbacks\n",
        "early_stopping = EarlyStopping(monitor='val_accuracy', patience=10)\n",
        "reduce_learning_rate = ReduceLROnPlateau(monitor='val_loss', factor=0.9, patience=5)\n",
        "\n",
        "# Train the model\n",
        "history = cnn_model.fit(x_train,\n",
        "                        y_train,\n",
        "                        batch_size=64,\n",
        "                        epochs=100,\n",
        "                        validation_data=(x_test, y_test),\n",
        "                        callbacks=[early_stopping, reduce_learning_rate])"
      ],
      "metadata": {
        "colab": {
          "base_uri": "https://localhost:8080/"
        },
        "id": "nLwOpotqiSmz",
        "outputId": "b4b66f25-47c6-4d17-cdc6-613e2d19e19b"
      },
      "execution_count": 9,
      "outputs": [
        {
          "output_type": "stream",
          "name": "stdout",
          "text": [
            "Epoch 1/100\n",
            "359/359 [==============================] - 35s 49ms/step - loss: 1.5741 - accuracy: 0.3773 - val_loss: 1.8126 - val_accuracy: 0.2072 - lr: 0.0010\n",
            "Epoch 2/100\n",
            "359/359 [==============================] - 15s 41ms/step - loss: 1.2534 - accuracy: 0.5248 - val_loss: 1.3043 - val_accuracy: 0.5099 - lr: 0.0010\n",
            "Epoch 3/100\n",
            "359/359 [==============================] - 15s 42ms/step - loss: 1.1251 - accuracy: 0.5767 - val_loss: 1.1572 - val_accuracy: 0.5747 - lr: 0.0010\n",
            "Epoch 4/100\n",
            "359/359 [==============================] - 15s 41ms/step - loss: 1.0428 - accuracy: 0.6060 - val_loss: 1.2079 - val_accuracy: 0.5545 - lr: 0.0010\n",
            "Epoch 5/100\n",
            "359/359 [==============================] - 15s 41ms/step - loss: 0.9577 - accuracy: 0.6423 - val_loss: 1.1753 - val_accuracy: 0.5679 - lr: 0.0010\n",
            "Epoch 6/100\n",
            "359/359 [==============================] - 15s 42ms/step - loss: 0.8962 - accuracy: 0.6658 - val_loss: 1.0871 - val_accuracy: 0.6082 - lr: 0.0010\n",
            "Epoch 7/100\n",
            "359/359 [==============================] - 15s 42ms/step - loss: 0.8055 - accuracy: 0.7002 - val_loss: 1.1293 - val_accuracy: 0.5921 - lr: 0.0010\n",
            "Epoch 8/100\n",
            "359/359 [==============================] - 15s 43ms/step - loss: 0.7320 - accuracy: 0.7294 - val_loss: 1.2362 - val_accuracy: 0.5723 - lr: 0.0010\n",
            "Epoch 9/100\n",
            "359/359 [==============================] - 15s 43ms/step - loss: 0.6329 - accuracy: 0.7675 - val_loss: 1.1613 - val_accuracy: 0.6012 - lr: 0.0010\n",
            "Epoch 10/100\n",
            "359/359 [==============================] - 15s 43ms/step - loss: 0.5348 - accuracy: 0.8079 - val_loss: 1.3867 - val_accuracy: 0.5737 - lr: 0.0010\n",
            "Epoch 11/100\n",
            "359/359 [==============================] - 15s 43ms/step - loss: 0.4512 - accuracy: 0.8386 - val_loss: 1.3346 - val_accuracy: 0.6183 - lr: 0.0010\n",
            "Epoch 12/100\n",
            "359/359 [==============================] - 15s 43ms/step - loss: 0.3245 - accuracy: 0.8844 - val_loss: 1.4668 - val_accuracy: 0.6266 - lr: 9.0000e-04\n",
            "Epoch 13/100\n",
            "359/359 [==============================] - 15s 42ms/step - loss: 0.2541 - accuracy: 0.9125 - val_loss: 1.5625 - val_accuracy: 0.6003 - lr: 9.0000e-04\n",
            "Epoch 14/100\n",
            "359/359 [==============================] - 15s 43ms/step - loss: 0.2083 - accuracy: 0.9272 - val_loss: 1.6886 - val_accuracy: 0.6038 - lr: 9.0000e-04\n",
            "Epoch 15/100\n",
            "359/359 [==============================] - 16s 43ms/step - loss: 0.1704 - accuracy: 0.9420 - val_loss: 1.8784 - val_accuracy: 0.6238 - lr: 9.0000e-04\n",
            "Epoch 16/100\n",
            "359/359 [==============================] - 15s 42ms/step - loss: 0.1447 - accuracy: 0.9507 - val_loss: 1.8512 - val_accuracy: 0.6268 - lr: 9.0000e-04\n",
            "Epoch 17/100\n",
            "359/359 [==============================] - 15s 43ms/step - loss: 0.1103 - accuracy: 0.9626 - val_loss: 1.8858 - val_accuracy: 0.6355 - lr: 8.1000e-04\n",
            "Epoch 18/100\n",
            "359/359 [==============================] - 15s 42ms/step - loss: 0.0865 - accuracy: 0.9706 - val_loss: 2.0288 - val_accuracy: 0.6296 - lr: 8.1000e-04\n",
            "Epoch 19/100\n",
            "359/359 [==============================] - 15s 43ms/step - loss: 0.0862 - accuracy: 0.9708 - val_loss: 1.9675 - val_accuracy: 0.6386 - lr: 8.1000e-04\n",
            "Epoch 20/100\n",
            "359/359 [==============================] - 16s 43ms/step - loss: 0.0843 - accuracy: 0.9705 - val_loss: 1.9845 - val_accuracy: 0.6310 - lr: 8.1000e-04\n",
            "Epoch 21/100\n",
            "359/359 [==============================] - 16s 43ms/step - loss: 0.0790 - accuracy: 0.9737 - val_loss: 2.0207 - val_accuracy: 0.6456 - lr: 8.1000e-04\n",
            "Epoch 22/100\n",
            "359/359 [==============================] - 15s 42ms/step - loss: 0.0608 - accuracy: 0.9804 - val_loss: 2.0497 - val_accuracy: 0.6362 - lr: 7.2900e-04\n",
            "Epoch 23/100\n",
            "359/359 [==============================] - 15s 42ms/step - loss: 0.0596 - accuracy: 0.9795 - val_loss: 1.9710 - val_accuracy: 0.6228 - lr: 7.2900e-04\n",
            "Epoch 24/100\n",
            "359/359 [==============================] - 15s 43ms/step - loss: 0.0569 - accuracy: 0.9801 - val_loss: 2.1806 - val_accuracy: 0.6397 - lr: 7.2900e-04\n",
            "Epoch 25/100\n",
            "359/359 [==============================] - 15s 42ms/step - loss: 0.0561 - accuracy: 0.9805 - val_loss: 2.4317 - val_accuracy: 0.6400 - lr: 7.2900e-04\n",
            "Epoch 26/100\n",
            "359/359 [==============================] - 15s 43ms/step - loss: 0.0579 - accuracy: 0.9801 - val_loss: 2.3070 - val_accuracy: 0.6165 - lr: 7.2900e-04\n",
            "Epoch 27/100\n",
            "359/359 [==============================] - 15s 42ms/step - loss: 0.0482 - accuracy: 0.9837 - val_loss: 2.1612 - val_accuracy: 0.6270 - lr: 6.5610e-04\n",
            "Epoch 28/100\n",
            "359/359 [==============================] - 15s 42ms/step - loss: 0.0366 - accuracy: 0.9879 - val_loss: 2.3736 - val_accuracy: 0.6440 - lr: 6.5610e-04\n",
            "Epoch 29/100\n",
            "359/359 [==============================] - 15s 43ms/step - loss: 0.0407 - accuracy: 0.9866 - val_loss: 2.2869 - val_accuracy: 0.6390 - lr: 6.5610e-04\n",
            "Epoch 30/100\n",
            "359/359 [==============================] - 15s 42ms/step - loss: 0.0460 - accuracy: 0.9837 - val_loss: 2.3103 - val_accuracy: 0.6311 - lr: 6.5610e-04\n",
            "Epoch 31/100\n",
            "359/359 [==============================] - 15s 43ms/step - loss: 0.0419 - accuracy: 0.9853 - val_loss: 2.3622 - val_accuracy: 0.6290 - lr: 6.5610e-04\n"
          ]
        }
      ]
    },
    {
      "cell_type": "code",
      "source": [
        "# Show accuracy diagram\n",
        "plt.title('Model Accuracy')\n",
        "plt.plot(history.history['accuracy'], label='accuracy')\n",
        "plt.plot(history.history['val_accuracy'], label='val_accuracy')\n",
        "plt.xlabel('Epoch')\n",
        "plt.ylabel('Accuracy')\n",
        "plt.legend(['Accuracy', 'Validation Accuracy'])\n",
        "plt.show()"
      ],
      "metadata": {
        "id": "oBmMQJ-NiYR6",
        "colab": {
          "base_uri": "https://localhost:8080/",
          "height": 472
        },
        "outputId": "be3b958b-f4a1-4d13-8ea0-ab835e647c4c"
      },
      "execution_count": 10,
      "outputs": [
        {
          "output_type": "display_data",
          "data": {
            "text/plain": [
              "<Figure size 640x480 with 1 Axes>"
            ],
            "image/png": "[encoded data removed]"
          },
          "metadata": {}
        }
      ]
    },
    {
      "cell_type": "markdown",
      "source": [
        "WE CAN SEE THAT THE TRAINING ACCURACY >>>>> VALIDATION ACCURACY WHICH SUGGESTS OVERFITTIN AND NOW WE WILL TRY OT FIX THAT"
      ],
      "metadata": {
        "id": "XkDxKEIs8_TC"
      }
    },
    {
      "cell_type": "markdown",
      "source": [
        "FIRST TRY TO APPLY DROP OUT LAYERS"
      ],
      "metadata": {
        "id": "6OYkN9Su9Vmq"
      }
    },
    {
      "cell_type": "code",
      "source": [
        "cnn_model2 = Sequential()\n",
        "\n",
        "# 1st convolution layer\n",
        "cnn_model2.add(Conv2D(64, input_shape=(48, 48, 1), kernel_size=(3, 3), activation='relu'))\n",
        "cnn_model2.add(BatchNormalization())\n",
        "cnn_model2.add(Conv2D(64, padding='same', kernel_size=(3, 3), activation='relu'))\n",
        "cnn_model2.add(BatchNormalization())\n",
        "cnn_model2.add(MaxPool2D(pool_size=(3, 3), strides=(2, 2)))\n",
        "cnn_model2.add(Dropout(0.3))\n",
        "\n",
        "# 2nd convolution layer\n",
        "cnn_model2.add(Conv2D(128, padding='same', kernel_size=(3, 3), activation='relu'))\n",
        "cnn_model2.add(BatchNormalization())\n",
        "cnn_model2.add(Conv2D(128, padding='same', kernel_size=(3, 3), activation='relu'))\n",
        "cnn_model2.add(BatchNormalization())\n",
        "cnn_model2.add(MaxPool2D(pool_size=(3, 3), strides=(2, 2)))\n",
        "cnn_model2.add(Dropout(0.3))\n",
        "\n",
        "# 3rd convolution layer\n",
        "cnn_model2.add(Conv2D(256, padding='same', kernel_size=(3, 3), activation='relu'))\n",
        "cnn_model2.add(BatchNormalization())\n",
        "cnn_model2.add(Conv2D(256, padding='same', kernel_size=(3, 3), activation='relu'))\n",
        "cnn_model2.add(BatchNormalization())\n",
        "cnn_model2.add(MaxPool2D(pool_size=(3, 3), strides=(2, 2)))\n",
        "cnn_model2.add(Dropout(0.3))\n",
        "\n",
        "# 4th convolution layer\n",
        "cnn_model2.add(Conv2D(512, padding='same', kernel_size=(3, 3), activation='relu'))\n",
        "cnn_model2.add(BatchNormalization())\n",
        "cnn_model2.add(Conv2D(512, padding='same', kernel_size=(3, 3), activation='relu'))\n",
        "cnn_model2.add(BatchNormalization())\n",
        "cnn_model2.add(MaxPool2D(pool_size=(3, 3), strides=(2, 2)))\n",
        "cnn_model2.add(Dropout(0.3))\n",
        "\n",
        "# Fully connected layer\n",
        "cnn_model2.add(Flatten())\n",
        "cnn_model2.add(Dense(512, activation='relu'))\n",
        "cnn_model2.add(Dropout(0.3))\n",
        "cnn_model2.add(Dense(256, activation='relu'))\n",
        "cnn_model2.add(Dropout(0.3))\n",
        "cnn_model2.add(Dense(64, activation='relu'))\n",
        "cnn_model2.add(Dropout(0.3))\n",
        "\n",
        "cnn_model2.add(Dense(7, activation='softmax'))\n",
        "\n",
        "# Compile the model\n",
        "adam = Adam(learning_rate=0.001)\n",
        "cnn_model2.compile(optimizer=adam,\n",
        "                  loss='sparse_categorical_crossentropy',\n",
        "                  metrics=['accuracy'])\n",
        "\n",
        "# Summary the model\n",
        "cnn_model2.summary()"
      ],
      "metadata": {
        "colab": {
          "base_uri": "https://localhost:8080/"
        },
        "id": "5T6XIWeA9Ytj",
        "outputId": "78587fe3-ed08-43a7-8c07-97a77977943b"
      },
      "execution_count": 11,
      "outputs": [
        {
          "output_type": "stream",
          "name": "stdout",
          "text": [
            "Model: \"sequential_1\"\n",
            "_________________________________________________________________\n",
            " Layer (type)                Output Shape              Param #   \n",
            "=================================================================\n",
            " conv2d_8 (Conv2D)           (None, 46, 46, 64)        640       \n",
            "                                                                 \n",
            " batch_normalization_8 (Bat  (None, 46, 46, 64)        256       \n",
            " chNormalization)                                                \n",
            "                                                                 \n",
            " conv2d_9 (Conv2D)           (None, 46, 46, 64)        36928     \n",
            "                                                                 \n",
            " batch_normalization_9 (Bat  (None, 46, 46, 64)        256       \n",
            " chNormalization)                                                \n",
            "                                                                 \n",
            " max_pooling2d_4 (MaxPoolin  (None, 22, 22, 64)        0         \n",
            " g2D)                                                            \n",
            "                                                                 \n",
            " dropout (Dropout)           (None, 22, 22, 64)        0         \n",
            "                                                                 \n",
            " conv2d_10 (Conv2D)          (None, 22, 22, 128)       73856     \n",
            "                                                                 \n",
            " batch_normalization_10 (Ba  (None, 22, 22, 128)       512       \n",
            " tchNormalization)                                               \n",
            "                                                                 \n",
            " conv2d_11 (Conv2D)          (None, 22, 22, 128)       147584    \n",
            "                                                                 \n",
            " batch_normalization_11 (Ba  (None, 22, 22, 128)       512       \n",
            " tchNormalization)                                               \n",
            "                                                                 \n",
            " max_pooling2d_5 (MaxPoolin  (None, 10, 10, 128)       0         \n",
            " g2D)                                                            \n",
            "                                                                 \n",
            " dropout_1 (Dropout)         (None, 10, 10, 128)       0         \n",
            "                                                                 \n",
            " conv2d_12 (Conv2D)          (None, 10, 10, 256)       295168    \n",
            "                                                                 \n",
            " batch_normalization_12 (Ba  (None, 10, 10, 256)       1024      \n",
            " tchNormalization)                                               \n",
            "                                                                 \n",
            " conv2d_13 (Conv2D)          (None, 10, 10, 256)       590080    \n",
            "                                                                 \n",
            " batch_normalization_13 (Ba  (None, 10, 10, 256)       1024      \n",
            " tchNormalization)                                               \n",
            "                                                                 \n",
            " max_pooling2d_6 (MaxPoolin  (None, 4, 4, 256)         0         \n",
            " g2D)                                                            \n",
            "                                                                 \n",
            " dropout_2 (Dropout)         (None, 4, 4, 256)         0         \n",
            "                                                                 \n",
            " conv2d_14 (Conv2D)          (None, 4, 4, 512)         1180160   \n",
            "                                                                 \n",
            " batch_normalization_14 (Ba  (None, 4, 4, 512)         2048      \n",
            " tchNormalization)                                               \n",
            "                                                                 \n",
            " conv2d_15 (Conv2D)          (None, 4, 4, 512)         2359808   \n",
            "                                                                 \n",
            " batch_normalization_15 (Ba  (None, 4, 4, 512)         2048      \n",
            " tchNormalization)                                               \n",
            "                                                                 \n",
            " max_pooling2d_7 (MaxPoolin  (None, 1, 1, 512)         0         \n",
            " g2D)                                                            \n",
            "                                                                 \n",
            " dropout_3 (Dropout)         (None, 1, 1, 512)         0         \n",
            "                                                                 \n",
            " flatten_1 (Flatten)         (None, 512)               0         \n",
            "                                                                 \n",
            " dense_4 (Dense)             (None, 512)               262656    \n",
            "                                                                 \n",
            " dropout_4 (Dropout)         (None, 512)               0         \n",
            "                                                                 \n",
            " dense_5 (Dense)             (None, 256)               131328    \n",
            "                                                                 \n",
            " dropout_5 (Dropout)         (None, 256)               0         \n",
            "                                                                 \n",
            " dense_6 (Dense)             (None, 64)                16448     \n",
            "                                                                 \n",
            " dropout_6 (Dropout)         (None, 64)                0         \n",
            "                                                                 \n",
            " dense_7 (Dense)             (None, 7)                 455       \n",
            "                                                                 \n",
            "=================================================================\n",
            "Total params: 5102791 (19.47 MB)\n",
            "Trainable params: 5098951 (19.45 MB)\n",
            "Non-trainable params: 3840 (15.00 KB)\n",
            "_________________________________________________________________\n"
          ]
        }
      ]
    },
    {
      "cell_type": "code",
      "source": [
        "# Callbacks\n",
        "early_stopping = EarlyStopping(monitor='val_accuracy', patience=10)\n",
        "reduce_learning_rate = ReduceLROnPlateau(monitor='val_loss', factor=0.9, patience=5)\n",
        "\n",
        "# Train the model\n",
        "history = cnn_model.fit(x_train,\n",
        "                        y_train,\n",
        "                        batch_size=64,\n",
        "                        epochs=100,\n",
        "                        validation_data=(x_test, y_test),\n",
        "                        callbacks=[early_stopping, reduce_learning_rate])"
      ],
      "metadata": {
        "colab": {
          "base_uri": "https://localhost:8080/"
        },
        "id": "2Yrvtppv9oV7",
        "outputId": "ecaafd73-ac7d-4b9c-f940-7c20148d3d6d"
      },
      "execution_count": 12,
      "outputs": [
        {
          "output_type": "stream",
          "name": "stdout",
          "text": [
            "Epoch 1/100\n",
            "359/359 [==============================] - 16s 44ms/step - loss: 0.0345 - accuracy: 0.9872 - val_loss: 2.4594 - val_accuracy: 0.6498 - lr: 5.9049e-04\n",
            "Epoch 2/100\n",
            "359/359 [==============================] - 16s 44ms/step - loss: 0.0299 - accuracy: 0.9893 - val_loss: 2.3898 - val_accuracy: 0.6423 - lr: 5.9049e-04\n",
            "Epoch 3/100\n",
            "359/359 [==============================] - 16s 44ms/step - loss: 0.0336 - accuracy: 0.9875 - val_loss: 2.5060 - val_accuracy: 0.6224 - lr: 5.9049e-04\n",
            "Epoch 4/100\n",
            "359/359 [==============================] - 15s 43ms/step - loss: 0.0390 - accuracy: 0.9862 - val_loss: 2.4634 - val_accuracy: 0.6174 - lr: 5.9049e-04\n",
            "Epoch 5/100\n",
            "359/359 [==============================] - 15s 42ms/step - loss: 0.0311 - accuracy: 0.9892 - val_loss: 2.4051 - val_accuracy: 0.6371 - lr: 5.9049e-04\n",
            "Epoch 6/100\n",
            "359/359 [==============================] - 15s 42ms/step - loss: 0.0302 - accuracy: 0.9897 - val_loss: 2.4470 - val_accuracy: 0.6296 - lr: 5.9049e-04\n",
            "Epoch 7/100\n",
            "359/359 [==============================] - 16s 44ms/step - loss: 0.0303 - accuracy: 0.9893 - val_loss: 2.3717 - val_accuracy: 0.6313 - lr: 5.9049e-04\n",
            "Epoch 8/100\n",
            "359/359 [==============================] - 15s 42ms/step - loss: 0.0284 - accuracy: 0.9905 - val_loss: 2.4194 - val_accuracy: 0.6344 - lr: 5.9049e-04\n",
            "Epoch 9/100\n",
            "359/359 [==============================] - 15s 43ms/step - loss: 0.0361 - accuracy: 0.9872 - val_loss: 2.4215 - val_accuracy: 0.6344 - lr: 5.9049e-04\n",
            "Epoch 10/100\n",
            "359/359 [==============================] - 15s 42ms/step - loss: 0.0295 - accuracy: 0.9895 - val_loss: 2.4806 - val_accuracy: 0.6385 - lr: 5.9049e-04\n",
            "Epoch 11/100\n",
            "359/359 [==============================] - 15s 43ms/step - loss: 0.0305 - accuracy: 0.9891 - val_loss: 2.4737 - val_accuracy: 0.6388 - lr: 5.9049e-04\n"
          ]
        }
      ]
    },
    {
      "cell_type": "markdown",
      "source": [],
      "metadata": {
        "id": "4rWYzDD0-Xr4"
      }
    },
    {
      "cell_type": "code",
      "source": [
        "# Show accuracy diagram\n",
        "plt.title('Model Accuracy')\n",
        "plt.plot(history.history['accuracy'], label='accuracy')\n",
        "plt.plot(history.history['val_accuracy'], label='val_accuracy')\n",
        "plt.xlabel('Epoch')\n",
        "plt.ylabel('Accuracy')\n",
        "plt.legend(['Accuracy', 'Validation Accuracy'])\n",
        "plt.show()"
      ],
      "metadata": {
        "colab": {
          "base_uri": "https://localhost:8080/",
          "height": 472
        },
        "id": "O5ndDNGJ9s9D",
        "outputId": "63a29a18-69d0-4f32-ce7b-728055bcd449"
      },
      "execution_count": 13,
      "outputs": [
        {
          "output_type": "display_data",
          "data": {
            "text/plain": [
              "<Figure size 640x480 with 1 Axes>"
            ],
            "image/png": "[encoded data removed]"
          },
          "metadata": {}
        }
      ]
    },
    {
      "cell_type": "markdown",
      "source": [
        "Next, we will improve our model by generating hard data. Specifically, instead of training the model over and over again, we will select the images which are incorrectly labelled by the model, and train the model on these specific images. Therefore, let's use our model to make predictions first, and put the incorrect ones into the array of hard data for further training.\n"
      ],
      "metadata": {
        "id": "UIyZJMu1-62q"
      }
    },
    {
      "cell_type": "code",
      "source": [
        "# Generate hard data\n",
        "hard_images = []\n",
        "hard_labels = []\n",
        "\n",
        "# Make predictions\n",
        "predictions = cnn_model.predict(x_test)\n",
        "for i, v in enumerate(predictions):\n",
        "    y_predict = numpy.argmax(v)\n",
        "    y_real = y_train[i]\n",
        "    if y_predict != y_real:\n",
        "        # If predict incorrectly, append to array\n",
        "        image = x_train[i]\n",
        "        hard_image = image.reshape(1, 48, 48, 1)\n",
        "        hard_images.append(image)\n",
        "        hard_labels.append(y_real)\n",
        "\n",
        "x_hard = numpy.array(hard_images)\n",
        "y_hard = numpy.array(hard_labels)\n",
        "\n",
        "print(x_hard.shape)\n",
        "print(y_hard.shape)"
      ],
      "metadata": {
        "colab": {
          "base_uri": "https://localhost:8080/"
        },
        "id": "6hL-flqM-2Oq",
        "outputId": "f5e60d61-6d31-4b66-f4a3-f4d7cd9b86a4"
      },
      "execution_count": 14,
      "outputs": [
        {
          "output_type": "stream",
          "name": "stdout",
          "text": [
            "180/180 [==============================] - 2s 9ms/step\n",
            "(4715, 48, 48, 1)\n",
            "(4715,)\n"
          ]
        }
      ]
    },
    {
      "cell_type": "code",
      "source": [
        "# Train the model on hard data\n",
        "x_hard_train, x_hard_test, y_hard_train, y_hard_test = train_test_split(x_hard, y_hard, test_size=0.2)\n",
        "history = cnn_model.fit(x_hard_train,\n",
        "                        y_hard_train,\n",
        "                        batch_size=64,\n",
        "                        epochs=100,\n",
        "                        validation_data=(x_hard_test, y_hard_test),\n",
        "                        callbacks=[early_stopping, reduce_learning_rate])"
      ],
      "metadata": {
        "colab": {
          "base_uri": "https://localhost:8080/"
        },
        "id": "-Hq79KOy-_cz",
        "outputId": "5b2b12d3-f9f5-4674-e25d-cafbc2f6066b"
      },
      "execution_count": 15,
      "outputs": [
        {
          "output_type": "stream",
          "name": "stdout",
          "text": [
            "Epoch 1/100\n",
            "59/59 [==============================] - 6s 101ms/step - loss: 0.0243 - accuracy: 0.9918 - val_loss: 0.0616 - val_accuracy: 0.9830 - lr: 5.9049e-04\n",
            "Epoch 2/100\n",
            "59/59 [==============================] - 3s 44ms/step - loss: 0.0077 - accuracy: 0.9981 - val_loss: 0.0182 - val_accuracy: 0.9958 - lr: 5.9049e-04\n",
            "Epoch 3/100\n",
            "59/59 [==============================] - 3s 45ms/step - loss: 0.0068 - accuracy: 0.9992 - val_loss: 0.0093 - val_accuracy: 0.9979 - lr: 5.9049e-04\n",
            "Epoch 4/100\n",
            "59/59 [==============================] - 3s 43ms/step - loss: 0.0015 - accuracy: 0.9997 - val_loss: 0.0054 - val_accuracy: 0.9989 - lr: 5.9049e-04\n",
            "Epoch 5/100\n",
            "59/59 [==============================] - 3s 45ms/step - loss: 9.1676e-04 - accuracy: 0.9995 - val_loss: 0.0043 - val_accuracy: 0.9989 - lr: 5.9049e-04\n",
            "Epoch 6/100\n",
            "59/59 [==============================] - 2s 42ms/step - loss: 7.2587e-04 - accuracy: 0.9997 - val_loss: 0.0040 - val_accuracy: 0.9989 - lr: 5.9049e-04\n",
            "Epoch 7/100\n",
            "59/59 [==============================] - 3s 43ms/step - loss: 5.5192e-04 - accuracy: 0.9997 - val_loss: 0.0037 - val_accuracy: 0.9989 - lr: 5.9049e-04\n",
            "Epoch 8/100\n",
            "59/59 [==============================] - 3s 44ms/step - loss: 6.5888e-04 - accuracy: 0.9995 - val_loss: 0.0036 - val_accuracy: 0.9989 - lr: 5.9049e-04\n",
            "Epoch 9/100\n",
            "59/59 [==============================] - 3s 46ms/step - loss: 7.5920e-04 - accuracy: 0.9997 - val_loss: 0.0036 - val_accuracy: 0.9989 - lr: 5.9049e-04\n",
            "Epoch 10/100\n",
            "59/59 [==============================] - 3s 44ms/step - loss: 6.1837e-04 - accuracy: 0.9995 - val_loss: 0.0036 - val_accuracy: 0.9989 - lr: 5.9049e-04\n",
            "Epoch 11/100\n",
            "59/59 [==============================] - 3s 46ms/step - loss: 5.7042e-04 - accuracy: 0.9997 - val_loss: 0.0034 - val_accuracy: 0.9989 - lr: 5.9049e-04\n",
            "Epoch 12/100\n",
            "59/59 [==============================] - 3s 44ms/step - loss: 4.2559e-04 - accuracy: 0.9997 - val_loss: 0.0032 - val_accuracy: 0.9989 - lr: 5.9049e-04\n",
            "Epoch 13/100\n",
            "59/59 [==============================] - 3s 44ms/step - loss: 4.7625e-04 - accuracy: 0.9995 - val_loss: 0.0029 - val_accuracy: 0.9989 - lr: 5.9049e-04\n",
            "Epoch 14/100\n",
            "59/59 [==============================] - 3s 45ms/step - loss: 5.1675e-04 - accuracy: 0.9995 - val_loss: 0.0031 - val_accuracy: 0.9989 - lr: 5.9049e-04\n"
          ]
        }
      ]
    },
    {
      "cell_type": "code",
      "source": [
        "# Perform data augmentation\n",
        "data_generator = ImageDataGenerator(featurewise_center=False,\n",
        "                                    featurewise_std_normalization=False,\n",
        "                                    rotation_range=10,\n",
        "                                    width_shift_range=0.1,\n",
        "                                    height_shift_range=0.1,\n",
        "                                    zoom_range=.1,\n",
        "                                    horizontal_flip=True)\n",
        "flow = data_generator.flow(x_train,\n",
        "                           y_train,\n",
        "                           batch_size=64)\n",
        "\n",
        "# Train the model again to balance out\n",
        "history = cnn_model.fit(flow,\n",
        "                        epochs=100,\n",
        "                        validation_data=(x_test, y_test),\n",
        "                        callbacks=[early_stopping, reduce_learning_rate])"
      ],
      "metadata": {
        "colab": {
          "base_uri": "https://localhost:8080/"
        },
        "id": "QXL5ai22_Bd7",
        "outputId": "5ee33be7-fd4d-40e8-a0cf-e2f1a30b5fe4"
      },
      "execution_count": 16,
      "outputs": [
        {
          "output_type": "stream",
          "name": "stdout",
          "text": [
            "Epoch 1/100\n",
            "359/359 [==============================] - 21s 56ms/step - loss: 1.0320 - accuracy: 0.6405 - val_loss: 1.0164 - val_accuracy: 0.6414 - lr: 5.9049e-04\n",
            "Epoch 2/100\n",
            "359/359 [==============================] - 18s 51ms/step - loss: 0.8815 - accuracy: 0.6781 - val_loss: 0.9834 - val_accuracy: 0.6480 - lr: 5.9049e-04\n",
            "Epoch 3/100\n",
            "359/359 [==============================] - 17s 47ms/step - loss: 0.8372 - accuracy: 0.6972 - val_loss: 0.9853 - val_accuracy: 0.6595 - lr: 5.9049e-04\n",
            "Epoch 4/100\n",
            "359/359 [==============================] - 21s 58ms/step - loss: 0.7890 - accuracy: 0.7145 - val_loss: 0.9606 - val_accuracy: 0.6599 - lr: 5.9049e-04\n",
            "Epoch 5/100\n",
            "359/359 [==============================] - 18s 50ms/step - loss: 0.7662 - accuracy: 0.7213 - val_loss: 0.9898 - val_accuracy: 0.6583 - lr: 5.9049e-04\n",
            "Epoch 6/100\n",
            "359/359 [==============================] - 17s 47ms/step - loss: 0.7259 - accuracy: 0.7349 - val_loss: 1.0137 - val_accuracy: 0.6625 - lr: 5.9049e-04\n",
            "Epoch 7/100\n",
            "359/359 [==============================] - 17s 48ms/step - loss: 0.7040 - accuracy: 0.7449 - val_loss: 1.0115 - val_accuracy: 0.6548 - lr: 5.9049e-04\n",
            "Epoch 8/100\n",
            "359/359 [==============================] - 17s 47ms/step - loss: 0.6873 - accuracy: 0.7515 - val_loss: 0.9749 - val_accuracy: 0.6688 - lr: 5.9049e-04\n",
            "Epoch 9/100\n",
            "359/359 [==============================] - 18s 50ms/step - loss: 0.6598 - accuracy: 0.7599 - val_loss: 1.0288 - val_accuracy: 0.6562 - lr: 5.9049e-04\n",
            "Epoch 10/100\n",
            "359/359 [==============================] - 17s 47ms/step - loss: 0.6294 - accuracy: 0.7695 - val_loss: 1.0199 - val_accuracy: 0.6632 - lr: 5.3144e-04\n",
            "Epoch 11/100\n",
            "359/359 [==============================] - 17s 47ms/step - loss: 0.6160 - accuracy: 0.7759 - val_loss: 1.0533 - val_accuracy: 0.6595 - lr: 5.3144e-04\n",
            "Epoch 12/100\n",
            "359/359 [==============================] - 18s 49ms/step - loss: 0.5904 - accuracy: 0.7827 - val_loss: 1.0576 - val_accuracy: 0.6667 - lr: 5.3144e-04\n",
            "Epoch 13/100\n",
            "359/359 [==============================] - 17s 47ms/step - loss: 0.5702 - accuracy: 0.7897 - val_loss: 1.0856 - val_accuracy: 0.6560 - lr: 5.3144e-04\n",
            "Epoch 14/100\n",
            "359/359 [==============================] - 17s 47ms/step - loss: 0.5486 - accuracy: 0.7990 - val_loss: 1.1187 - val_accuracy: 0.6522 - lr: 5.3144e-04\n",
            "Epoch 15/100\n",
            "359/359 [==============================] - 18s 50ms/step - loss: 0.5169 - accuracy: 0.8111 - val_loss: 1.0962 - val_accuracy: 0.6665 - lr: 4.7830e-04\n",
            "Epoch 16/100\n",
            "359/359 [==============================] - 18s 50ms/step - loss: 0.5051 - accuracy: 0.8176 - val_loss: 1.2111 - val_accuracy: 0.6487 - lr: 4.7830e-04\n",
            "Epoch 17/100\n",
            "359/359 [==============================] - 19s 53ms/step - loss: 0.4869 - accuracy: 0.8200 - val_loss: 1.1297 - val_accuracy: 0.6599 - lr: 4.7830e-04\n",
            "Epoch 18/100\n",
            "359/359 [==============================] - 17s 47ms/step - loss: 0.4658 - accuracy: 0.8314 - val_loss: 1.1546 - val_accuracy: 0.6569 - lr: 4.7830e-04\n"
          ]
        }
      ]
    },
    {
      "cell_type": "markdown",
      "source": [
        "Finally, let's evaluate our model again after improvement. Previously, we have the validation accuracy at around 64%. Nevertheless, the validation accuracy has increased to around **68%**."
      ],
      "metadata": {
        "id": "clPt3jPx_F5w"
      }
    },
    {
      "cell_type": "code",
      "source": [
        "# Evaluate the model after improvement\n",
        "_, score_after_improvement = cnn_model.evaluate(x_test, y_test)\n",
        "print('Score after improvement: {}'.format(score_after_improvement))"
      ],
      "metadata": {
        "colab": {
          "base_uri": "https://localhost:8080/"
        },
        "id": "0WwFZzfo_LwW",
        "outputId": "bd17009f-0ee0-4585-f541-1e1baee9aa99"
      },
      "execution_count": 17,
      "outputs": [
        {
          "output_type": "stream",
          "name": "stdout",
          "text": [
            "180/180 [==============================] - 1s 8ms/step - loss: 1.1546 - accuracy: 0.6569\n",
            "Score after improvement: 0.6569139957427979\n"
          ]
        }
      ]
    },
    {
      "cell_type": "code",
      "source": [],
      "metadata": {
        "id": "6UXv6iUj_QEx"
      },
      "execution_count": null,
      "outputs": []
    },
    {
      "cell_type": "markdown",
      "metadata": {
        "id": "-Z_5-5Bz0nKz"
      },
      "source": [
        "Improve Model"
      ]
    },
    {
      "cell_type": "markdown",
      "metadata": {
        "id": "FN97gbIr0nKz"
      },
      "source": [
        "Results (And confusion matrix if possible)"
      ]
    },
    {
      "cell_type": "markdown",
      "metadata": {
        "id": "TAlNQ8wP0nKz"
      },
      "source": [
        "Testing on Local Images"
      ]
    },
    {
      "cell_type": "markdown",
      "metadata": {
        "id": "ApfzjUzG0nK0"
      },
      "source": [
        "Collab Webcam and Live inference"
      ]
    },
    {
      "cell_type": "markdown",
      "metadata": {
        "id": "PfBrZ3xv0nK0"
      },
      "source": []
    }
  ],
  "metadata": {
    "colab": {
      "provenance": [],
      "gpuType": "T4"
    },
    "kernelspec": {
      "display_name": "Python 3",
      "name": "python3"
    },
    "language_info": {
      "codemirror_mode": {
        "name": "ipython",
        "version": 3
      },
      "file_extension": ".py",
      "mimetype": "text/x-python",
      "name": "python",
      "nbconvert_exporter": "python",
      "pygments_lexer": "ipython3",
      "version": "3.11.5"
    },
    "accelerator": "GPU"
  },
  "nbformat": 4,
  "nbformat_minor": 0
}