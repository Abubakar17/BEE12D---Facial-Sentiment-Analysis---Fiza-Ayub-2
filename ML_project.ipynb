{
  "nbformat": 4,
  "nbformat_minor": 0,
  "metadata": {
    "colab": {
      "provenance": [],
      "gpuType": "T4",
      "authorship_tag": "ABX9TyOpECkJ0RLoeu26ohxqvi1u",
      "include_colab_link": true
    },
    "kernelspec": {
      "name": "python3",
      "display_name": "Python 3"
    },
    "language_info": {
      "name": "python"
    },
    "accelerator": "GPU"
  },
  "cells": [
    {
      "cell_type": "markdown",
      "metadata": {
        "id": "view-in-github",
        "colab_type": "text"
      },
      "source": [
        "<a href=\"https://colab.research.google.com/github/FizaAyub/BEE12D---Facial-Sentiment-Analysis---Fiza-Ayub-/blob/main/ML_project.ipynb\" target=\"_parent\"><img src=\"https://colab.research.google.com/assets/colab-badge.svg\" alt=\"Open In Colab\"/></a>"
      ]
    },
    {
      "cell_type": "code",
      "source": [
        "import pandas as pd\n",
        "from sklearn.model_selection import train_test_split\n",
        "from tensorflow.keras.preprocessing.image import ImageDataGenerator\n",
        "import os\n",
        "\n",
        "\n",
        "# Mount Google Drive\n",
        "from google.colab import drive\n",
        "drive.mount('/content/my_drive')\n",
        "\n",
        "# Set the paths\n",
        "dataset_root = '/content/my_drive/MyDrive/Our Dataset'\n",
        "\n",
        "touch_data_dir = f'{dataset_root}/interaction_frames'\n",
        "not_touch_data_dir = f'{dataset_root}/non_interaction_frames'\n",
        "\n",
        "# List all image files in the directories\n",
        "touch_image_files = [os.path.join(touch_data_dir, file) for file in os.listdir(touch_data_dir) if file.endswith(('.jpg', '.png'))]\n",
        "not_touch_image_files = [os.path.join(not_touch_data_dir, file) for file in os.listdir(not_touch_data_dir) if file.endswith(('.jpg', '.png'))]\n",
        "\n",
        "# Create a DataFrame with file paths and labels\n",
        "touch_df = pd.DataFrame({'filepath': touch_image_files, 'label': 1})\n",
        "not_touch_df = pd.DataFrame({'filepath': not_touch_image_files, 'label': 0})\n",
        "\n",
        "# Combine the dataframes\n",
        "combined_df = pd.concat([touch_df, not_touch_df], ignore_index=True)\n",
        "\n",
        "# Split the dataframe into train and validation sets\n",
        "train_df, val_df = train_test_split(combined_df, test_size=0.2, random_state=42)\n"
      ],
      "metadata": {
        "id": "XTWN4cTJmbT7",
        "colab": {
          "base_uri": "https://localhost:8080/"
        },
        "outputId": "a70b6362-5f8d-42fc-8988-8602b1a8fb6c"
      },
      "execution_count": 16,
      "outputs": [
        {
          "output_type": "stream",
          "name": "stdout",
          "text": [
            "Drive already mounted at /content/my_drive; to attempt to forcibly remount, call drive.mount(\"/content/my_drive\", force_remount=True).\n"
          ]
        }
      ]
    },
    {
      "cell_type": "code",
      "source": [
        "\n",
        "# Convert the 'label' column to string format\n",
        "train_df['label'] = train_df['label'].astype(str)\n",
        "val_df['label'] = val_df['label'].astype(str)\n",
        "# Create ImageDataGenerator without data augmentation\n",
        "datagen = ImageDataGenerator(rescale=1./255)\n",
        "img_height, img_width = 224, 224\n",
        "batch_size=64\n",
        "\n",
        "# Generate images without augmentation using flow_from_dataframe\n",
        "train_generator = datagen.flow_from_dataframe(\n",
        "    train_df,\n",
        "    x_col='filepath',\n",
        "    y_col='label',\n",
        "    target_size=(img_height, img_width),\n",
        "    batch_size=batch_size,\n",
        "    class_mode='binary'\n",
        ")\n",
        "\n",
        "val_generator = datagen.flow_from_dataframe(\n",
        "    val_df,\n",
        "    x_col='filepath',\n",
        "    y_col='label',\n",
        "    target_size=(img_height, img_width),\n",
        "    batch_size=batch_size,\n",
        "    class_mode='binary'\n",
        ")\n",
        "# Count the occurrences of each class in the training set\n",
        "train_class_counts = train_df['label'].value_counts()\n",
        "\n",
        "# Count the occurrences of each class in the validation set\n",
        "val_class_counts = val_df['label'].value_counts()\n",
        "\n",
        "print(\"Training Class Counts:\")\n",
        "print(train_class_counts)\n",
        "\n",
        "print(\"\\nValidation Class Counts:\")\n",
        "print(val_class_counts)"
      ],
      "metadata": {
        "colab": {
          "base_uri": "https://localhost:8080/"
        },
        "id": "hDe_PzRSUAAz",
        "outputId": "f4862d05-0263-4ad2-c6fd-49e64d4c200a"
      },
      "execution_count": 26,
      "outputs": [
        {
          "output_type": "stream",
          "name": "stdout",
          "text": [
            "Found 21597 validated image filenames belonging to 2 classes.\n",
            "Found 5400 validated image filenames belonging to 2 classes.\n",
            "Training Class Counts:\n",
            "1    11278\n",
            "0    10319\n",
            "Name: label, dtype: int64\n",
            "\n",
            "Validation Class Counts:\n",
            "1    2828\n",
            "0    2572\n",
            "Name: label, dtype: int64\n"
          ]
        }
      ]
    },
    {
      "cell_type": "code",
      "source": [
        "import tensorflow as tf\n",
        "from tensorflow.keras.models import Sequential\n",
        "from tensorflow.keras.layers import Conv2D, MaxPooling2D, Flatten, Dense, Dropout\n",
        "num_epochs=1\n",
        "# Define the model\n",
        "model = Sequential()\n",
        "model.add(Conv2D(32, (3, 3), activation='relu', input_shape=(img_height, img_width, 3)))\n",
        "model.add(MaxPooling2D(2, 2))\n",
        "model.add(Flatten())\n",
        "model.add(Dense(128, activation='relu'))\n",
        "model.add(Dropout(0.5))\n",
        "\n",
        "model.add(Dense(1, activation='sigmoid'))\n",
        "\n",
        "# Compile the model\n",
        "model.compile(optimizer=tf.keras.optimizers.Adam(learning_rate=0.001),\n",
        "              loss='binary_crossentropy',\n",
        "              metrics=['accuracy'])\n",
        "\n",
        "\n",
        "# Train the model\n",
        "history = model.fit(\n",
        "    train_generator,\n",
        "    epochs=num_epochs,\n",
        "    validation_data=val_generator,\n",
        "\n",
        "\n",
        "    verbose=1\n",
        ")"
      ],
      "metadata": {
        "id": "JtJXr_RPmN7k",
        "colab": {
          "base_uri": "https://localhost:8080/"
        },
        "outputId": "27800f29-f95a-455c-9212-79baa7f0b344"
      },
      "execution_count": 27,
      "outputs": [
        {
          "output_type": "stream",
          "name": "stdout",
          "text": [
            "338/338 [==============================] - 187s 548ms/step - loss: 0.5380 - accuracy: 0.9012 - val_loss: 0.0206 - val_accuracy: 0.9993\n"
          ]
        }
      ]
    },
    {
      "cell_type": "code",
      "source": [
        "\n",
        "\n",
        "import matplotlib.pyplot as plt\n",
        "\n",
        "# Plot training/validation accuracy\n",
        "plt.plot(history.history['accuracy'], label='Training Accuracy')\n",
        "plt.plot(history.history['val_accuracy'], label='Validation Accuracy')\n",
        "plt.xlabel('Epoch')\n",
        "plt.ylabel('Accuracy')\n",
        "plt.legend()\n",
        "plt.show()\n",
        "\n",
        "# Plot training/validation loss\n",
        "plt.plot(history.history['loss'], label='Training Loss')\n",
        "plt.plot(history.history['val_loss'], label='Validation Loss')\n",
        "plt.xlabel('Epoch')\n",
        "plt.ylabel('Loss')\n",
        "plt.legend()\n",
        "plt.show()"
      ],
      "metadata": {
        "colab": {
          "base_uri": "https://localhost:8080/",
          "height": 881
        },
        "id": "8jy9SwpyN2qS",
        "outputId": "ff1634d7-653f-4303-e092-6fcac0ae757d"
      },
      "execution_count": 25,
      "outputs": [
        {
          "output_type": "display_data",
          "data": {
            "text/plain": [
              "<Figure size 640x480 with 1 Axes>"
            ],
            "image/png": "[encoded data removed]"
          },
          "metadata": {}
        },
        {
          "output_type": "display_data",
          "data": {
            "text/plain": [
              "<Figure size 640x480 with 1 Axes>"
            ],
            "image/png": "[encoded data removed]"
          },
          "metadata": {}
        }
      ]
    },
    {
      "cell_type": "code",
      "source": [],
      "metadata": {
        "id": "BCj2hjWNudLv"
      },
      "execution_count": null,
      "outputs": []
    }
  ]
}